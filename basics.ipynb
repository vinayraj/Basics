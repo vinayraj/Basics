{
 "cells": [
  {
   "cell_type": "code",
   "execution_count": 3,
   "id": "1101cf26-c559-4217-b2e4-ede627b8cbc9",
   "metadata": {},
   "outputs": [],
   "source": [
    "# Testing the starting kernel"
   ]
  },
  {
   "cell_type": "code",
   "execution_count": 4,
   "id": "ed0a1dbb-276c-4b83-9b59-316c75ea7859",
   "metadata": {},
   "outputs": [
    {
     "name": "stdout",
     "output_type": "stream",
     "text": [
      "Testing the starting kernel\n"
     ]
    }
   ],
   "source": [
    "print('Testing the starting kernel')"
   ]
  },
  {
   "cell_type": "code",
   "execution_count": null,
   "id": "32c6d7dd-af3a-480b-a5a0-f4b450123fd3",
   "metadata": {},
   "outputs": [],
   "source": []
  }
 ],
 "metadata": {
  "kernelspec": {
   "display_name": "basics",
   "language": "python",
   "name": "basics"
  },
  "language_info": {
   "codemirror_mode": {
    "name": "ipython",
    "version": 3
   },
   "file_extension": ".py",
   "mimetype": "text/x-python",
   "name": "python",
   "nbconvert_exporter": "python",
   "pygments_lexer": "ipython3",
   "version": "3.11.2"
  }
 },
 "nbformat": 4,
 "nbformat_minor": 5
}
